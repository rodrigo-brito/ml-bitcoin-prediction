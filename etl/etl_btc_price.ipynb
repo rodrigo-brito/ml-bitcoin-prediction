{
 "cells": [
  {
   "cell_type": "code",
   "execution_count": 73,
   "metadata": {
    "collapsed": true
   },
   "outputs": [],
   "source": [
    "import re\n",
    "from datetime import datetime\n",
    "import pandas as pd\n",
    "import numpy as np\n",
    "import matplotlib as plt\n",
    "%matplotlib inline"
   ]
  },
  {
   "cell_type": "code",
   "execution_count": 6,
   "metadata": {
    "collapsed": true
   },
   "outputs": [],
   "source": [
    "# Global settings\n",
    "sample_size = 1000"
   ]
  },
  {
   "cell_type": "code",
   "execution_count": 82,
   "metadata": {},
   "outputs": [],
   "source": [
    "# Convert string to number\n",
    "def string_to_number(value):\n",
    "    n = re.sub(r\"[,-]\", \"\", value)\n",
    "    return float(n) if n else None # 'None' will be used to identify missing values\n",
    "# Conver string to date\n",
    "def string_to_date(value):\n",
    "    return datetime.strptime(value, '%b %d, %Y')"
   ]
  },
  {
   "cell_type": "code",
   "execution_count": 88,
   "metadata": {},
   "outputs": [
    {
     "name": "stdout",
     "output_type": "stream",
     "text": [
      "<class 'pandas.core.frame.DataFrame'>\n",
      "RangeIndex: 1655 entries, 0 to 1654\n",
      "Data columns (total 7 columns):\n",
      "Date          1655 non-null object\n",
      "Open          1655 non-null float64\n",
      "High          1655 non-null float64\n",
      "Low           1655 non-null float64\n",
      "Close         1655 non-null float64\n",
      "Volume        1655 non-null object\n",
      "Market Cap    1655 non-null object\n",
      "dtypes: float64(4), object(3)\n",
      "memory usage: 90.6+ KB\n"
     ]
    }
   ],
   "source": [
    "btc_price = pd.read_csv(\"../data/bitcoin_price.csv\")\n",
    "btc_price.info()"
   ]
  },
  {
   "cell_type": "code",
   "execution_count": 89,
   "metadata": {},
   "outputs": [],
   "source": [
    "# 'Volume' and 'Maket Cap' should be converted\n",
    "parse_cols_number = [\"Volume\", \"Market Cap\"]\n",
    "for col in parse_cols:\n",
    "    btc_price[col] = btc_price[col].apply(lambda x: string_to_number(x))\n",
    "# Date Parser\n",
    "btc_price.Date = btc_price.Date.apply(lambda x: string_to_date(x))"
   ]
  },
  {
   "cell_type": "code",
   "execution_count": 92,
   "metadata": {},
   "outputs": [
    {
     "name": "stdout",
     "output_type": "stream",
     "text": [
      "Shape =  (1655, 7)\n"
     ]
    },
    {
     "data": {
      "text/html": [
       "<div>\n",
       "<style>\n",
       "    .dataframe thead tr:only-child th {\n",
       "        text-align: right;\n",
       "    }\n",
       "\n",
       "    .dataframe thead th {\n",
       "        text-align: left;\n",
       "    }\n",
       "\n",
       "    .dataframe tbody tr th {\n",
       "        vertical-align: top;\n",
       "    }\n",
       "</style>\n",
       "<table border=\"1\" class=\"dataframe\">\n",
       "  <thead>\n",
       "    <tr style=\"text-align: right;\">\n",
       "      <th></th>\n",
       "      <th>Open</th>\n",
       "      <th>High</th>\n",
       "      <th>Low</th>\n",
       "      <th>Close</th>\n",
       "      <th>Volume</th>\n",
       "      <th>Market Cap</th>\n",
       "    </tr>\n",
       "  </thead>\n",
       "  <tbody>\n",
       "    <tr>\n",
       "      <th>count</th>\n",
       "      <td>1655.000000</td>\n",
       "      <td>1655.000000</td>\n",
       "      <td>1655.000000</td>\n",
       "      <td>1655.000000</td>\n",
       "      <td>1.412000e+03</td>\n",
       "      <td>1.655000e+03</td>\n",
       "    </tr>\n",
       "    <tr>\n",
       "      <th>mean</th>\n",
       "      <td>822.136127</td>\n",
       "      <td>845.812665</td>\n",
       "      <td>800.640906</td>\n",
       "      <td>826.285541</td>\n",
       "      <td>2.783246e+08</td>\n",
       "      <td>1.272435e+10</td>\n",
       "    </tr>\n",
       "    <tr>\n",
       "      <th>std</th>\n",
       "      <td>1108.245793</td>\n",
       "      <td>1147.157863</td>\n",
       "      <td>1077.408893</td>\n",
       "      <td>1119.053510</td>\n",
       "      <td>6.014815e+08</td>\n",
       "      <td>1.860357e+10</td>\n",
       "    </tr>\n",
       "    <tr>\n",
       "      <th>min</th>\n",
       "      <td>68.500000</td>\n",
       "      <td>74.560000</td>\n",
       "      <td>65.530000</td>\n",
       "      <td>68.430000</td>\n",
       "      <td>2.857830e+06</td>\n",
       "      <td>7.792550e+08</td>\n",
       "    </tr>\n",
       "    <tr>\n",
       "      <th>25%</th>\n",
       "      <td>263.850000</td>\n",
       "      <td>270.070000</td>\n",
       "      <td>260.030000</td>\n",
       "      <td>264.135000</td>\n",
       "      <td>2.163132e+07</td>\n",
       "      <td>3.754615e+09</td>\n",
       "    </tr>\n",
       "    <tr>\n",
       "      <th>50%</th>\n",
       "      <td>453.380000</td>\n",
       "      <td>458.200000</td>\n",
       "      <td>444.960000</td>\n",
       "      <td>453.380000</td>\n",
       "      <td>5.042405e+07</td>\n",
       "      <td>6.547850e+09</td>\n",
       "    </tr>\n",
       "    <tr>\n",
       "      <th>75%</th>\n",
       "      <td>743.485000</td>\n",
       "      <td>759.425000</td>\n",
       "      <td>731.785000</td>\n",
       "      <td>744.820000</td>\n",
       "      <td>1.220485e+08</td>\n",
       "      <td>1.061010e+10</td>\n",
       "    </tr>\n",
       "    <tr>\n",
       "      <th>max</th>\n",
       "      <td>7404.520000</td>\n",
       "      <td>7617.480000</td>\n",
       "      <td>7333.190000</td>\n",
       "      <td>7407.410000</td>\n",
       "      <td>4.653770e+09</td>\n",
       "      <td>1.233880e+11</td>\n",
       "    </tr>\n",
       "  </tbody>\n",
       "</table>\n",
       "</div>"
      ],
      "text/plain": [
       "              Open         High          Low        Close        Volume  \\\n",
       "count  1655.000000  1655.000000  1655.000000  1655.000000  1.412000e+03   \n",
       "mean    822.136127   845.812665   800.640906   826.285541  2.783246e+08   \n",
       "std    1108.245793  1147.157863  1077.408893  1119.053510  6.014815e+08   \n",
       "min      68.500000    74.560000    65.530000    68.430000  2.857830e+06   \n",
       "25%     263.850000   270.070000   260.030000   264.135000  2.163132e+07   \n",
       "50%     453.380000   458.200000   444.960000   453.380000  5.042405e+07   \n",
       "75%     743.485000   759.425000   731.785000   744.820000  1.220485e+08   \n",
       "max    7404.520000  7617.480000  7333.190000  7407.410000  4.653770e+09   \n",
       "\n",
       "         Market Cap  \n",
       "count  1.655000e+03  \n",
       "mean   1.272435e+10  \n",
       "std    1.860357e+10  \n",
       "min    7.792550e+08  \n",
       "25%    3.754615e+09  \n",
       "50%    6.547850e+09  \n",
       "75%    1.061010e+10  \n",
       "max    1.233880e+11  "
      ]
     },
     "execution_count": 92,
     "metadata": {},
     "output_type": "execute_result"
    }
   ],
   "source": [
    "print (\"Shape = \", btc_price.shape)\n",
    "btc_price.describe()"
   ]
  },
  {
   "cell_type": "code",
   "execution_count": null,
   "metadata": {
    "collapsed": true
   },
   "outputs": [],
   "source": []
  }
 ],
 "metadata": {
  "kernelspec": {
   "display_name": "Python 3",
   "language": "python",
   "name": "python3"
  },
  "language_info": {
   "codemirror_mode": {
    "name": "ipython",
    "version": 3
   },
   "file_extension": ".py",
   "mimetype": "text/x-python",
   "name": "python",
   "nbconvert_exporter": "python",
   "pygments_lexer": "ipython3",
   "version": "3.6.3"
  }
 },
 "nbformat": 4,
 "nbformat_minor": 2
}
